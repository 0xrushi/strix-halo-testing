{
 "cells": [
  {
   "cell_type": "markdown",
   "metadata": {},
   "source": [
    "# LLM Bench Chart Development\n",
    "This notebook lets us experiment with chart colors and layout for the LLM benchmark results."
   ]
  },
  {
   "cell_type": "code",
   "execution_count": null,
   "metadata": {},
   "outputs": [],
   "source": [
    "import pandas as pd\n",
    "import matplotlib.pyplot as plt\n",
    "from pathlib import Path\n"
   ]
  },
  {
   "cell_type": "code",
   "execution_count": null,
   "metadata": {},
   "outputs": [],
   "source": [
    "results = Path('llm-bench/llama-2-7b.Q4_0/results.jsonl')\n",
    "df = pd.read_json(results, orient='records', lines=True)\n",
    "df.head()"
   ]
  },
  {
   "cell_type": "code",
   "execution_count": null,
   "metadata": {},
   "outputs": [],
   "source": [
    "BACKEND_COLORS = {\n",
    "    'hip': 'tab:blue',\n",
    "    'rocwmma': 'tab:orange',\n",
    "    'vulkan': 'tab:green',\n",
    "}\n",
    "\n",
    "def _format_b_flag(b: str) -> str:\n",
    "    if b.startswith('-b '):\n",
    "        return 'b=' + b.split()[1]\n",
    "    return b\n",
    "\n",
    "def _make_label(build: str, fa: str, b: str, hiplt: str) -> str:\n",
    "    backend = build.split('-', 1)[-1].upper()\n",
    "    parts = []\n",
    "    if hiplt:\n",
    "        parts.append('hipBLASLt')\n",
    "    if fa:\n",
    "        parts.append('fa=1')\n",
    "    if b:\n",
    "        parts.append(_format_b_flag(b))\n",
    "    return f'{backend} {' '.join(parts)}'.strip()\n",
    "\n",
    "def plot_mode(df, mode):\n",
    "    subset = df[df['mode'] == mode]\n",
    "    fig, ax = plt.subplots(figsize=(8,5))\n",
    "    for (build, fa, b, hiplt), grp in subset.groupby(['build','fa','b','hipblaslt']):\n",
    "        backend = build.split('-', 1)[-1]\n",
    "        color = BACKEND_COLORS.get(backend, 'tab:gray')\n",
    "        label = _make_label(build, fa, b, hiplt)\n",
    "        ax.plot(grp['value'], grp['tokens_per_sec'], marker='o', label=label, color=color)\n",
    "    ax.set_title(f'Tokens/s – {mode.upper()} sweep')\n",
    "    ax.set_xlabel('Tokens')\n",
    "    ax.set_ylabel('Tokens/s')\n",
    "    ax.grid(True, alpha=0.3, linestyle=':')\n",
    "    ax.legend(bbox_to_anchor=(1.02,1), loc='upper left')\n",
    "    plt.show()\n"
   ]
  },
  {
   "cell_type": "code",
   "execution_count": null,
   "metadata": {},
   "outputs": [],
   "source": [
    "plot_mode(df, 'pp')"
   ]
  },
  {
   "cell_type": "code",
   "execution_count": null,
   "metadata": {},
   "outputs": [],
   "source": [
    "plot_mode(df, 'tg')"
   ]
  }
 ],
 "metadata": {
  "kernelspec": {
   "display_name": "Python 3",
   "language": "python",
   "name": "python3"
  },
  "language_info": {
   "name": "python",
   "pygments_lexer": "ipython3"
  }
 },
 "nbformat": 4,
 "nbformat_minor": 5
}
